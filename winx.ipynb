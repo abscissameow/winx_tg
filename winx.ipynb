{
 "cells": [
  {
   "cell_type": "code",
   "execution_count": 1,
   "metadata": {},
   "outputs": [
    {
     "name": "stdout",
     "output_type": "stream",
     "text": [
      "Start bot\n"
     ]
    }
   ],
   "source": [
    "from telegram import InlineKeyboardMarkup, InlineKeyboardButton, Update\n",
    "from telegram.ext import CallbackContext, CallbackQueryHandler, CommandHandler, Updater, MessageHandler, Filters\n",
    "\n",
    "TOKEN = '5402875904:AAFkX76VxCNv1oUicVRguyOGQ6n-CRZHU1M'\n",
    "\n",
    "def start_command(update: Update, context: CallbackContext) -> None:\n",
    "    update.message.reply_text('привет, прекрасная фея!\\nузнай кто ты из /winx или возьми усиление /enchantix!\\nеще ты можешь использовать магию слов!')\n",
    "\n",
    "def handle_everything_else(update: Update, context: CallbackContext):\n",
    "    update.message.reply_text('сам ты '+update.message.text)\n",
    "\n",
    "\n",
    "handlers = [\n",
    "    CommandHandler('start', start_command),\n",
    "    MessageHandler(Filters.all, handle_everything_else)\n",
    "]\n",
    "\n",
    "def main() -> None:\n",
    "    updater = Updater(TOKEN, workers=100)\n",
    "    for handler in handlers:\n",
    "        updater.dispatcher.add_handler(handler)\n",
    "    updater.start_polling()\n",
    "    print('Start bot')\n",
    "    updater.idle()\n",
    "\n",
    "if __name__ == '__main__':\n",
    "    main()"
   ]
  },
  {
   "cell_type": "code",
   "execution_count": 4,
   "metadata": {},
   "outputs": [],
   "source": [
    "# from sklearn.model_selection import train_test_split\n",
    "# from sklearn.neighbors import KNeighborsClassifier\n",
    "# from sklearn.metrics import accuracy_score, f1_score\n",
    "# from sentence_transformers import SentenceTransformer\n",
    "import numpy as np\n",
    "\n",
    "\n",
    "# class RequestClassifier:\n",
    "#     def predict(self, request : str):\n",
    "#         request_sentence_embedding = self.bert_model.encode(request)\n",
    "#         request_sentence_embedding=request_sentence_embedding.reshape(1, -1)\n",
    "#         class_label = self.knn.predict(request_sentence_embedding)\n",
    "#         class_proba = self.knn.predict_proba(request_sentence_embedding)\n",
    "#         return self.classes[class_label][0], np.amax(class_proba)\n",
    "\n",
    "#     def data_preprocessing(self):\n",
    "#         self.dataset['Вопрос']=self.dataset['Вопрос'].str.lower()\n",
    "#         # Remove punctuations and numbers\n",
    "#         self.dataset['Вопрос'].replace('[^а-яёА-ЯЁ]', ' ', regex=True, inplace=True)\n",
    "#         # Single character removal\n",
    "#         self.dataset['Вопрос'].replace(r\"\\s+[а-яёА-ЯЁ]\\s+\", ' ', regex=True, inplace=True)\n",
    "#         # Removing multiple spaces\n",
    "#         self.dataset['Вопрос'].replace(r'\\s+', ' ', regex=True, inplace=True)\n",
    "\n",
    "#     def __init__(self, dataset : pd.DataFrame, n_neighbours = 5):\n",
    "#         self.dataset = dataset\n",
    "#         self.data_preprocessing()        \n",
    "#         self.bert_model = SentenceTransformer('paraphrase-MiniLM-L6-v2')\n",
    "\n",
    "#         sentences = self.dataset['Вопрос']\n",
    "#         sentence_embeddings = self.bert_model.encode(sentences)\n",
    "\n",
    "#         self.X = sentence_embeddings\n",
    "#         self.y, self.classes = pd.factorize(self.dataset['Класс'])\n",
    "\n",
    "#         self.knn = KNeighborsClassifier()\n",
    "#         X_train, X_test, y_train, y_test = train_test_split(self.X, self.y)\n",
    "#         self.knn = KNeighborsClassifier(n_neighbors=n_neighbours)\n",
    "#         self.knn.fit(X_train, y_train)\n",
    "#         y_pred=self.knn.predict(X_test)"
   ]
  },
  {
   "cell_type": "code",
   "execution_count": null,
   "metadata": {},
   "outputs": [],
   "source": [
    "# data = pd.read_csv('extended_dataset.csv')"
   ]
  },
  {
   "cell_type": "code",
   "execution_count": null,
   "metadata": {},
   "outputs": [],
   "source": [
    "# сраный_класс=RequestClassifier(data)"
   ]
  },
  {
   "cell_type": "code",
   "execution_count": 13,
   "metadata": {},
   "outputs": [],
   "source": [
    "def execute(expression,vectors):\n",
    "    res=[np.array([0]*300)]\n",
    "    plus=list(map(lambda x: x.strip(),expression.split('+')))\n",
    "    negative=False\n",
    "    if plus[0][0]=='-':\n",
    "        negative=True\n",
    "    indic=1\n",
    "    for i in plus:\n",
    "        if indic and negative:\n",
    "            minus=list(map(lambda x: x.strip(),i.split('-')))[1:]\n",
    "        else:\n",
    "            minus=list(map(lambda x: x.strip(),i.split('-')))\n",
    "        word=word2key(minus[0],vectors)\n",
    "        if not word:\n",
    "            return None\n",
    "        if indic and negative:\n",
    "            indic=0\n",
    "            res-=vectors[word]\n",
    "        else:\n",
    "            res+=vectors[word]\n",
    "        for j in minus[1:]:\n",
    "            word=word2key(j,vectors)\n",
    "            if not word:\n",
    "                return None\n",
    "            res-=vectors[word]\n",
    "    res=vectors.similar_by_vector(res[0])[:3]\n",
    "    return [res[0][0].split('_')[0],res[1][0].split('_')[0],res[2][0].split('_')[0]]"
   ]
  },
  {
   "cell_type": "code",
   "execution_count": 17,
   "metadata": {},
   "outputs": [
    {
     "name": "stdout",
     "output_type": "stream",
     "text": [
      "['телевизор']\n"
     ]
    },
    {
     "data": {
      "text/plain": [
       "['брадобрей', 'янсенист', 'предводительствуемый']"
      ]
     },
     "execution_count": 17,
     "metadata": {},
     "output_type": "execute_result"
    }
   ],
   "source": [
    "execute('-телевизор', vectors)"
   ]
  },
  {
   "cell_type": "code",
   "execution_count": 6,
   "metadata": {},
   "outputs": [
    {
     "name": "stderr",
     "output_type": "stream",
     "text": [
      "/Library/Frameworks/Python.framework/Versions/3.10/lib/python3.10/site-packages/scipy/__init__.py:146: UserWarning: A NumPy version >=1.16.5 and <1.23.0 is required for this version of SciPy (detected version 1.23.1\n",
      "  warnings.warn(f\"A NumPy version >={np_minversion} and <{np_maxversion}\"\n"
     ]
    }
   ],
   "source": [
    "import gensim.downloader\n",
    "vectors = gensim.downloader.load('word2vec-ruscorpora-300')"
   ]
  },
  {
   "cell_type": "code",
   "execution_count": 7,
   "metadata": {},
   "outputs": [],
   "source": [
    "def word2key(word, vectors):\n",
    "    if word+'_NOUN' in vectors:\n",
    "        return word+'_NOUN'\n",
    "    elif word+'_ADJ' in vectors:\n",
    "        return word+'_ADJ'\n",
    "    elif word+'_VERB' in vectors:\n",
    "        return word+'_VERB'\n",
    "    elif word+'_NUM' in vectors:\n",
    "        return word+'_VERB'\n",
    "    elif word+'_DET' in vectors:\n",
    "        return word+'_DET'\n",
    "    elif word+'_DET' in vectors:\n",
    "        return word+'_DET'\n",
    "    elif word+'_NUM' in vectors:\n",
    "        return word+'_NUM'\n",
    "    elif word+'_PRON' in vectors:\n",
    "        return word+'_PRON'\n",
    "    elif word+'_PART' in vectors:\n",
    "        return word+'_PART'\n",
    "    elif word+'_ADP' in vectors:\n",
    "        return word+'_ADP'\n",
    "    elif word+'_CCONJ' in vectors:\n",
    "        return word+'_CCONJ'\n",
    "    elif word+'_INTJ' in vectors:\n",
    "        return word+'_INTJ'\n",
    "    return None"
   ]
  },
  {
   "cell_type": "code",
   "execution_count": 98,
   "metadata": {},
   "outputs": [],
   "source": [
    "word2key('3',glove_vectors)"
   ]
  },
  {
   "cell_type": "code",
   "execution_count": 99,
   "metadata": {},
   "outputs": [
    {
     "name": "stdout",
     "output_type": "stream",
     "text": [
      "DET\n",
      "NOUN\n",
      "VERB\n",
      "ADV\n",
      "ADJ\n",
      "NUM\n",
      "PRON\n",
      "PART\n",
      "ADP\n",
      "CCONJ\n",
      "INTJ\n"
     ]
    },
    {
     "ename": "KeyboardInterrupt",
     "evalue": "",
     "output_type": "error",
     "traceback": [
      "\u001b[0;31m---------------------------------------------------------------------------\u001b[0m",
      "\u001b[0;31mKeyboardInterrupt\u001b[0m                         Traceback (most recent call last)",
      "\u001b[1;32m/Users/philurame/Downloads/progs/vk_pract/vk_tg_bot/winx.ipynb Ячейка 10\u001b[0m in \u001b[0;36m<cell line: 2>\u001b[0;34m()\u001b[0m\n\u001b[1;32m      <a href='vscode-notebook-cell:/Users/philurame/Downloads/progs/vk_pract/vk_tg_bot/winx.ipynb#ch0000012?line=0'>1</a>\u001b[0m dic\u001b[39m=\u001b[39m[]\n\u001b[1;32m      <a href='vscode-notebook-cell:/Users/philurame/Downloads/progs/vk_pract/vk_tg_bot/winx.ipynb#ch0000012?line=1'>2</a>\u001b[0m \u001b[39mfor\u001b[39;00m i \u001b[39min\u001b[39;00m glove_vectors:\n\u001b[1;32m      <a href='vscode-notebook-cell:/Users/philurame/Downloads/progs/vk_pract/vk_tg_bot/winx.ipynb#ch0000012?line=2'>3</a>\u001b[0m     \u001b[39m# print(glove_vectors.similar_by_vector(i)[0][0])\u001b[39;00m\n\u001b[0;32m----> <a href='vscode-notebook-cell:/Users/philurame/Downloads/progs/vk_pract/vk_tg_bot/winx.ipynb#ch0000012?line=3'>4</a>\u001b[0m     a\u001b[39m=\u001b[39mglove_vectors\u001b[39m.\u001b[39;49msimilar_by_vector(i)[\u001b[39m0\u001b[39m][\u001b[39m0\u001b[39m]\u001b[39m.\u001b[39msplit(\u001b[39m'\u001b[39m\u001b[39m_\u001b[39m\u001b[39m'\u001b[39m)\n\u001b[1;32m      <a href='vscode-notebook-cell:/Users/philurame/Downloads/progs/vk_pract/vk_tg_bot/winx.ipynb#ch0000012?line=4'>5</a>\u001b[0m     \u001b[39mif\u001b[39;00m a[\u001b[39m-\u001b[39m\u001b[39m1\u001b[39m] \u001b[39mnot\u001b[39;00m \u001b[39min\u001b[39;00m dic:\n\u001b[1;32m      <a href='vscode-notebook-cell:/Users/philurame/Downloads/progs/vk_pract/vk_tg_bot/winx.ipynb#ch0000012?line=5'>6</a>\u001b[0m         \u001b[39mprint\u001b[39m(a[\u001b[39m-\u001b[39m\u001b[39m1\u001b[39m])\n",
      "File \u001b[0;32m/Library/Frameworks/Python.framework/Versions/3.10/lib/python3.10/site-packages/gensim/models/keyedvectors.py:915\u001b[0m, in \u001b[0;36mKeyedVectors.similar_by_vector\u001b[0;34m(self, vector, topn, restrict_vocab)\u001b[0m\n\u001b[1;32m    891\u001b[0m \u001b[39mdef\u001b[39;00m \u001b[39msimilar_by_vector\u001b[39m(\u001b[39mself\u001b[39m, vector, topn\u001b[39m=\u001b[39m\u001b[39m10\u001b[39m, restrict_vocab\u001b[39m=\u001b[39m\u001b[39mNone\u001b[39;00m):\n\u001b[1;32m    892\u001b[0m     \u001b[39m\"\"\"Find the top-N most similar keys by vector.\u001b[39;00m\n\u001b[1;32m    893\u001b[0m \n\u001b[1;32m    894\u001b[0m \u001b[39m    Parameters\u001b[39;00m\n\u001b[0;32m   (...)\u001b[0m\n\u001b[1;32m    913\u001b[0m \n\u001b[1;32m    914\u001b[0m \u001b[39m    \"\"\"\u001b[39;00m\n\u001b[0;32m--> 915\u001b[0m     \u001b[39mreturn\u001b[39;00m \u001b[39mself\u001b[39;49m\u001b[39m.\u001b[39;49mmost_similar(positive\u001b[39m=\u001b[39;49m[vector], topn\u001b[39m=\u001b[39;49mtopn, restrict_vocab\u001b[39m=\u001b[39;49mrestrict_vocab)\n",
      "File \u001b[0;32m/Library/Frameworks/Python.framework/Versions/3.10/lib/python3.10/site-packages/gensim/models/keyedvectors.py:850\u001b[0m, in \u001b[0;36mKeyedVectors.most_similar\u001b[0;34m(self, positive, negative, topn, clip_start, clip_end, restrict_vocab, indexer)\u001b[0m\n\u001b[1;32m    847\u001b[0m \u001b[39mif\u001b[39;00m indexer \u001b[39mis\u001b[39;00m \u001b[39mnot\u001b[39;00m \u001b[39mNone\u001b[39;00m \u001b[39mand\u001b[39;00m \u001b[39misinstance\u001b[39m(topn, \u001b[39mint\u001b[39m):\n\u001b[1;32m    848\u001b[0m     \u001b[39mreturn\u001b[39;00m indexer\u001b[39m.\u001b[39mmost_similar(mean, topn)\n\u001b[0;32m--> 850\u001b[0m dists \u001b[39m=\u001b[39m dot(\u001b[39mself\u001b[39;49m\u001b[39m.\u001b[39;49mvectors[clip_start:clip_end], mean) \u001b[39m/\u001b[39m \u001b[39mself\u001b[39m\u001b[39m.\u001b[39mnorms[clip_start:clip_end]\n\u001b[1;32m    851\u001b[0m \u001b[39mif\u001b[39;00m \u001b[39mnot\u001b[39;00m topn:\n\u001b[1;32m    852\u001b[0m     \u001b[39mreturn\u001b[39;00m dists\n",
      "File \u001b[0;32m<__array_function__ internals>:180\u001b[0m, in \u001b[0;36mdot\u001b[0;34m(*args, **kwargs)\u001b[0m\n",
      "\u001b[0;31mKeyboardInterrupt\u001b[0m: "
     ]
    }
   ],
   "source": [
    "dic=[]\n",
    "for i in glove_vectors:\n",
    "    # print(glove_vectors.similar_by_vector(i)[0][0])\n",
    "    a=glove_vectors.similar_by_vector(i)[0][0].split('_')\n",
    "    if a[-1] not in dic:\n",
    "        print(a[-1])\n",
    "        dic.append(a[-1])\n",
    "dic\n"
   ]
  },
  {
   "cell_type": "code",
   "execution_count": 88,
   "metadata": {},
   "outputs": [
    {
     "data": {
      "text/plain": [
       "True"
      ]
     },
     "execution_count": 88,
     "metadata": {},
     "output_type": "execute_result"
    }
   ],
   "source": [
    "'привет_NOUN' in glove_vectors"
   ]
  },
  {
   "cell_type": "code",
   "execution_count": 79,
   "metadata": {},
   "outputs": [
    {
     "data": {
      "text/plain": [
       "[('пятерка_NOUN', 0.6189649105072021),\n",
       " ('неуд_NOUN', 0.5674453377723694),\n",
       " ('балл_NOUN', 0.5435288548469543),\n",
       " ('бальник_NOUN', 0.535201907157898),\n",
       " ('четверка_NOUN', 0.5334247350692749),\n",
       " ('переэкзаменовка_NOUN', 0.5065314769744873),\n",
       " ('отметка_NOUN', 0.49484601616859436),\n",
       " ('кочеткова_NOUN', 0.48217159509658813),\n",
       " ('пересдача_NOUN', 0.48060843348503113),\n",
       " ('незачет_NOUN', 0.4736381471157074),\n",
       " ('диктант_NOUN', 0.4699665904045105),\n",
       " ('зачетка_NOUN', 0.4661596417427063),\n",
       " ('экзамен_NOUN', 0.4596382677555084),\n",
       " ('урок_NOUN', 0.4511305093765259),\n",
       " ('математика_NOUN', 0.45087844133377075),\n",
       " ('королихин_NOUN', 0.4478774070739746),\n",
       " ('алгебра_NOUN', 0.4454897940158844),\n",
       " ('казеннов_NOUN', 0.44400545954704285),\n",
       " ('нотат_NOUN', 0.4425114691257477),\n",
       " ('невыученный_ADJ', 0.4404168426990509),\n",
       " ('первоклассник_NOUN', 0.44031479954719543),\n",
       " ('безударный::гласный_NOUN', 0.4395450949668884),\n",
       " ('успеваемость_NOUN', 0.4381387233734131),\n",
       " ('двоечка_NOUN', 0.43531304597854614),\n",
       " ('пятибалльный_ADJ', 0.4335653781890869),\n",
       " ('литтауэр_NOUN', 0.4276280999183655),\n",
       " ('терпимы_NOUN', 0.4255703091621399),\n",
       " ('тройка_NOUN', 0.42227500677108765),\n",
       " ('арифметика_NOUN', 0.42202311754226685),\n",
       " ('субоч_NOUN', 0.4208914041519165),\n",
       " ('двухвесельный_ADJ', 0.4190617501735687),\n",
       " ('костя::костромин_NOUN', 0.4171437919139862),\n",
       " ('чистописание_NOUN', 0.41346123814582825),\n",
       " ('двоечник_NOUN', 0.41332489252090454),\n",
       " ('троечница_NOUN', 0.41136109828948975),\n",
       " ('хардиков_NOUN', 0.41068369150161743),\n",
       " ('трояк_NOUN', 0.40495699644088745),\n",
       " ('козликов_NOUN', 0.4047318994998932),\n",
       " ('геометрия::тригонометрия_NOUN', 0.4036886692047119),\n",
       " ('математичка_NOUN', 0.40280234813690186),\n",
       " ('шестерка_NOUN', 0.40275341272354126),\n",
       " ('нолик_NOUN', 0.402581125497818),\n",
       " ('выпускной::экзамен_NOUN', 0.4025796353816986),\n",
       " ('карандашный::огрызок_NOUN', 0.4021947383880615),\n",
       " ('парта_NOUN', 0.40213990211486816),\n",
       " ('самоподготовка_NOUN', 0.40165677666664124),\n",
       " ('бедткер_NOUN', 0.4005506634712219),\n",
       " ('такаджиев_NOUN', 0.40007734298706055),\n",
       " ('троечка_NOUN', 0.39999276399612427),\n",
       " ('забугский_ADJ', 0.3992396593093872)]"
      ]
     },
     "execution_count": 79,
     "metadata": {},
     "output_type": "execute_result"
    }
   ],
   "source": [
    "glove_vectors.most_similar('двойка_NOUN',topn=50)"
   ]
  },
  {
   "cell_type": "code",
   "execution_count": 53,
   "metadata": {},
   "outputs": [
    {
     "data": {
      "text/plain": [
       "[('сосать_VERB', 0.6471191048622131),\n",
       " ('париж_NOUN', 0.5923262238502502),\n",
       " ('москва_NOUN', 0.5630049109458923),\n",
       " ('дю::плесся_NOUN', 0.509415328502655),\n",
       " ('берлин_NOUN', 0.5022512078285217),\n",
       " ('лондон_NOUN', 0.5022075772285461),\n",
       " ('макон_NOUN', 0.4957479238510132),\n",
       " ('неаполь_NOUN', 0.49122071266174316),\n",
       " ('кольмар_NOUN', 0.4892480671405792),\n",
       " ('парижский_ADJ', 0.4874117076396942)]"
      ]
     },
     "execution_count": 53,
     "metadata": {},
     "output_type": "execute_result"
    }
   ],
   "source": [
    "glove_vectors.similar_by_vector(glove_vectors['москва_NOUN']-glove_vectors['россия_NOUN']+glove_vectors['франция_NOUN']+glove_vectors['сосать_VERB'])"
   ]
  }
 ],
 "metadata": {
  "kernelspec": {
   "display_name": "Python 3.10.0 64-bit",
   "language": "python",
   "name": "python3"
  },
  "language_info": {
   "codemirror_mode": {
    "name": "ipython",
    "version": 3
   },
   "file_extension": ".py",
   "mimetype": "text/x-python",
   "name": "python",
   "nbconvert_exporter": "python",
   "pygments_lexer": "ipython3",
   "version": "3.10.0"
  },
  "orig_nbformat": 4,
  "vscode": {
   "interpreter": {
    "hash": "7e1998ff7f8aa20ada591c520b972326324e5ea05489af9e422744c7c09f6dad"
   }
  }
 },
 "nbformat": 4,
 "nbformat_minor": 2
}
